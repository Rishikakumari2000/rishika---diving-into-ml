{
  "nbformat": 4,
  "nbformat_minor": 0,
  "metadata": {
    "colab": {
      "provenance": []
    },
    "kernelspec": {
      "name": "python3",
      "display_name": "Python 3"
    },
    "language_info": {
      "name": "python"
    }
  },
  "cells": [
    {
      "cell_type": "markdown",
      "source": [
        "# **Week 1 : Linear Algebra and Calculus**\n",
        "\n",
        "In this assignment, we shall explore the concepts of analytic and numeric computation of gradients. Further, we will have a look at the computation graph which is a central concept to building a neural network. For learning how gradients are computed analytically, refer to the resources provided in this week."
      ],
      "metadata": {
        "id": "lORIgnt_yoZD"
      }
    },
    {
      "cell_type": "markdown",
      "source": [
        "<img src=\"https://encrypted-tbn0.gstatic.com/images?q=tbn:ANd9GcQWsYeD8ZlYxFBB33qIn7bwQvP-KuvLZXJOoA&usqp=CAU\"\n",
        " style=\"float:center;width:50px;height:50px;\">"
      ],
      "metadata": {
        "id": "I-z3YLRv1U_a"
      }
    },
    {
      "cell_type": "markdown",
      "source": [
        "# **Importing Libraries**\n",
        "Feel free to import any additional libraries required"
      ],
      "metadata": {
        "id": "nn_1mKR02Swb"
      }
    },
    {
      "cell_type": "code",
      "source": [
        "# Import all libraries here\n",
        "\n",
        "import numpy as np\n",
        "import random\n",
        "import math\n",
        "\n",
        "\n",
        "\n",
        "# Setting the seed for reproducible results\n"
      ],
      "metadata": {
        "id": "ugD-twoX2T4N"
      },
      "execution_count": 1,
      "outputs": []
    },
    {
      "cell_type": "markdown",
      "source": [
        "# *Problem 1(a)*\n",
        "\n",
        "In this problem, we shall be exploring the concepts of analytic and numeric computation of gradients for scalar valued functions. \n",
        "\n",
        "\\begin{equation}\n",
        "z = w^{T}x + b \\\\ \n",
        "\\hat{y} = \\sigma(z) = \\frac{1}{1+e^{-z}}\\\\ \n",
        "L(\\hat{y}, y) = y.log(\\hat{y}) + (1-y).log(1-\\hat{y})\n",
        "\\end{equation}\n",
        "\n",
        "For this set of equations, the vector w, and scalars b, y are to be treated as constants. \\\\\n",
        "\n",
        "Now, let us find the analytic gradient of the function L with respect to the function x. That is, compute $\\frac{\\delta L}{\\delta x}$. Write the answer obtained as code in the function provided."
      ],
      "metadata": {
        "id": "LBmB8rFN2XT7"
      }
    },
    {
      "cell_type": "markdown",
      "source": [
        "Initialise $w$ to a $10 \\times 1$ vector sampled over a standard multivariate gaussian distribution, b to a uniform random variable over the interval $(0, 1)$, y to a bernoulli random variable over $\\{0, 1\\}$"
      ],
      "metadata": {
        "id": "qC-5BMVs-abp"
      }
    },
    {
      "cell_type": "code",
      "source": [
        "from numpy.core.fromnumeric import transpose\n",
        "# Initialisation : \n",
        "\n",
        "w = np.random.multivariate_normal(np.zeros(1), np.eye(1), size=10)\n",
        "b = np.random.uniform(0,1)\n",
        "\n",
        "rvs = np.array([])\n",
        "for i in range(0,1):\n",
        "  if np.random.rand() <= 1:\n",
        "    a=1\n",
        "    rvs = np.append(rvs,a)\n",
        "  else:\n",
        "    a=0\n",
        "    rvs = np.append(rvs,a)\n",
        "y = rvs\n",
        "dx = 1\n",
        "x = np.array([1,1,1,1,1,1,1,1,1,1])\n",
        "w_trans = w.reshape(1,10)\n",
        "print(w)\n",
        "print(w_trans)\n",
        "print(y)\n",
        "print(b)\n",
        "print(x)\n",
        "\n",
        "\n"
      ],
      "metadata": {
        "id": "1z1FuiZn-mg1",
        "colab": {
          "base_uri": "https://localhost:8080/"
        },
        "outputId": "a566c1a5-0cbf-43f3-ef99-6ccf49fb630e"
      },
      "execution_count": 2,
      "outputs": [
        {
          "output_type": "stream",
          "name": "stdout",
          "text": [
            "[[-0.54582872]\n",
            " [ 1.02505867]\n",
            " [-0.38016878]\n",
            " [-0.80132886]\n",
            " [-0.11866275]\n",
            " [-1.18658396]\n",
            " [ 1.63857828]\n",
            " [ 0.76753926]\n",
            " [ 0.98342385]\n",
            " [-1.18689568]]\n",
            "[[-0.54582872  1.02505867 -0.38016878 -0.80132886 -0.11866275 -1.18658396\n",
            "   1.63857828  0.76753926  0.98342385 -1.18689568]]\n",
            "[1.]\n",
            "0.7233961511845961\n",
            "[1 1 1 1 1 1 1 1 1 1]\n"
          ]
        }
      ]
    },
    {
      "cell_type": "code",
      "source": [
        "def analytic_grad(x) :\n",
        "  for i in range(len(w_trans)):\n",
        "    ### WRITE CODE BELOW ##\n",
        "    z = np.dot(w_trans[i],x) + b\n",
        "    a = math.exp(-z)\n",
        "    gradient = (1-y)*(-w_trans[i])* a + w_trans[i]/ (1 +  a)\n",
        "  return gradient\n",
        "print(analytic_grad(x))"
      ],
      "metadata": {
        "colab": {
          "base_uri": "https://localhost:8080/"
        },
        "id": "0Q_W9CBr-LEp",
        "outputId": "c6454342-dc24-464a-e444-6b92aad4cb2d"
      },
      "execution_count": null,
      "outputs": [
        {
          "output_type": "stream",
          "name": "stdout",
          "text": [
            "[ 0.00438021  0.00381516 -0.002455   -0.01462927 -0.0026232  -0.00319769\n",
            " -0.00321689 -0.00112851 -0.00705618 -0.01020404]\n"
          ]
        }
      ]
    },
    {
      "cell_type": "markdown",
      "source": [
        "# *Problem 1(b)*\n",
        "\n",
        "Now, we compute the numeric gradient for the function L. Refer to [this](https://stackoverflow.com/questions/38854363/is-there-any-standard-way-to-calculate-the-numerical-gradient) stack exchange post to see how numeric gradients are computed"
      ],
      "metadata": {
        "id": "YjAm_AKN7Qk-"
      }
    },
    {
      "cell_type": "code",
      "source": [
        "from numpy.core.getlimits import log10\n",
        "def numeric_grad(x) :\n",
        "  x = np.array([1,1,1,1,1,1,1,1,1,1]) \n",
        "  h = 1\n",
        "  ### WRITE CODE BELOW ###\n",
        "  def function(a):\n",
        "    for i in range(len(w_trans)):\n",
        "      z = np.dot(w_trans[i],x[a]) + b\n",
        "      \n",
        "      s = 1/ (1+np.exp(-z))\n",
        "      fx = y*np.log(s) + np.log(1-s) - y*np.log(1-s)\n",
        "    return fx\n",
        "  gradient = (function(i + h) - function(i - h))/2 \n",
        "  return  gradient\n",
        "  ### WRITE CODE ABOVE ###\n",
        "print(numeric_grad(x))"
      ],
      "metadata": {
        "id": "Ur4CfvOf7YeR",
        "colab": {
          "base_uri": "https://localhost:8080/"
        },
        "outputId": "276d9e00-5620-4370-f145-2134ed77b680"
      },
      "execution_count": 3,
      "outputs": [
        {
          "output_type": "stream",
          "name": "stdout",
          "text": [
            "[0. 0. 0. 0. 0. 0. 0. 0. 0. 0.]\n"
          ]
        }
      ]
    },
    {
      "cell_type": "markdown",
      "source": [
        "# *Problem 2*\n",
        "\n",
        "Here, we'll be looking at computational graphs, and their calculus, finding gradients of  variables with respect to other variables in the graph.\n",
        "\n"
      ],
      "metadata": {
        "id": "MwJI9VYhLjCi"
      }
    },
    {
      "cell_type": "markdown",
      "source": [
        "We'll be looking at nodes of the graph that are operation based, i.e., each operation performed has a node associated with it.\n",
        "\n",
        "We'll provide you with example implementations for three of the nodes, the *add* node, the *nth power* node and the *sine* node, you'll have to write the classes for all the other nodes."
      ],
      "metadata": {
        "id": "0wwEXqQEREOH"
      }
    },
    {
      "cell_type": "markdown",
      "source": [
        "# **Multi-input nodes**"
      ],
      "metadata": {
        "id": "YIeEOTBytyGB"
      }
    },
    {
      "cell_type": "code",
      "source": [
        "class Add: \n",
        "  \n",
        "  # A class to add multiple variables together\n",
        "  def __init__(self, lst_names, lst_values):\n",
        "    self.lst_names = lst_names # This numpy arr contains all the variable names that are to be added, with each variable name in datatype str.\n",
        "                               # Scalar addition is taken care of in a separate node, we could have fit into this node but thought it might be easier if it wasn't.\n",
        "                               # So cases like \"a + 1\" are to be done separately, and cases like \"b + c + d + 4\" can be done as \"(b + c + d) + 4\" or \"b + c + (d + 4)\", since our scalar addition supports only one variable and one scalar, we'll get to that later\n",
        "    self.lst_values = lst_values # This numpy arr contains all the variable values that are to be added, as scalars.\n",
        "\n",
        "  def compute_output(self):\n",
        "    return (np.sum(self.lst_values))# This computes the sum of all the variables\n",
        "  \n",
        "  def compute_gradients(self):\n",
        "    return dict(zip(self.lst_names, np.ones(len(self.lst_names)))) # This gives the gradient of the sum wrt to all the input variables, as a dictionary, will be used later\n",
        "\n",
        "\n",
        "class Multiply: \n",
        "  \n",
        "  #Everything's almost the same as the add class, but this deals with multiplication of more than 1 variables\n",
        "  def __init__(self, lst_names, lst_values):\n",
        "    self.lst_names = lst_names # This numpy arr contains all the variable names that are to be multiplied, with each variable name in datatype str.\n",
        "                               # Scalar multiplication is taken care of in a separate node\n",
        "    self.lst_values = lst_values # This numpy arr contains all the variable values that are to be multiplied, as scalars.\n",
        "\n",
        "  def compute_output(self):\n",
        "    # Write your code to compute the output of this operation\n",
        "    return np.prod(self.lst_values)\n",
        "  \n",
        "  def compute_gradients(self):\n",
        "    # Write your code to create a dictionary, storing all the gradients of the output wrt to each input (In this case there is only a single input that matters)\n",
        "    n = len(self.lst_values)\n",
        "    left = [0]*n\n",
        "    right = [0]*n\n",
        "    prod = [0]*n\n",
        "    left[0] = 1\n",
        "    right[n-1] = 1\n",
        "    for i in range(1, n):\n",
        "      left[i] = self.lst_values[i - 1] * left[i - 1]\n",
        "    for j in range(n-2,-1,-1):\n",
        "      right[j] = self.lst_values[j + 1] * right[j + 1]\n",
        "  \t\n",
        "    for i in range(n):\n",
        "      prod[i] = left[i] * right[i]\n",
        "\t  \n",
        "\n",
        "    return dict(zip(self.lst_names, prod))\n",
        "obj = Multiply(['a','b','c'],[1,2,3])\n",
        "print(Multiply.compute_output)"
      ],
      "metadata": {
        "id": "JQuHj5IctK4N",
        "colab": {
          "base_uri": "https://localhost:8080/"
        },
        "outputId": "3e6b0cda-756b-46e6-95eb-1b640c715a61"
      },
      "execution_count": 4,
      "outputs": [
        {
          "output_type": "stream",
          "name": "stdout",
          "text": [
            "<function Multiply.compute_output at 0x7f5948627280>\n"
          ]
        }
      ]
    },
    {
      "cell_type": "markdown",
      "source": [
        "# **Scalar multiplication/addition nodes**"
      ],
      "metadata": {
        "id": "_QpfDyxht7Ob"
      }
    },
    {
      "cell_type": "code",
      "source": [
        "class Add_Scalar: \n",
        "  \n",
        "  # A class to add a variable with a scalar\n",
        "  def __init__(self, lst_names, lst_values):\n",
        "    self.lst_names = lst_names # This numpy arr contains all the variable names that are to be added, with each variable name in datatype str.\n",
        "                               # This list must only have 2 elements, the first should be the string corresponding to the name of the variable, and the second should be a string of the scalar value to be added.\n",
        "    self.lst_values = lst_values # This numpy arr contains all the variable values that are to be added, as scalars.\n",
        "\n",
        "  def compute_output(self):\n",
        "    # Write your code to compute the output of this operation\n",
        "    sum =  np.sum(self.lst_values)\n",
        "    for i in range(len(self.lst_names)):\n",
        "      if self.lst_names[i].isnumeric() == True:\n",
        "        j = int(self.lst_names[i])\n",
        "        sum += j\n",
        "    return sum\n",
        "\n",
        "\n",
        "  def compute_gradients(self):\n",
        "    # Write your code to create a dictionary, storing all the gradients of the output wrt to each input (In this case there is only a single input that matters)\n",
        "    return dict(zip(self.lst_names, np.ones(1)))\n",
        "\n",
        "\n",
        "\n",
        "class Multiply_Scalar: \n",
        "  \n",
        "  # A class to multiply a variable with a scalar\n",
        "  def __init__(self, lst_names, lst_values):\n",
        "    self.lst_names = lst_names # This numpy arr contains all the variable names that are to be multiplied, with each variable name in datatype str.\n",
        "                               # This list must only have 2 elements, the first should be the string corresponding to the name of the variable, and the second should be a string of the scalar value to be multiplied.\n",
        "    self.lst_values = lst_values # This numpy arr contains all the variable values that are to be multiplied, as scalars.\n",
        "\n",
        "  def compute_output(self):\n",
        "    # Write your code to compute the output of this operation\n",
        "    product =  np.prod(self.lst_values)\n",
        "    for i in range(len(self.lst_names)):\n",
        "      if self.lst_names[i].isnumeric() == True:\n",
        "        j = int(self.lst_names[i])\n",
        "        product = j * product\n",
        "    return product\n",
        "\n",
        "  def compute_gradients(self):\n",
        "    # Write your code to create a dictionary, storing all the gradients of the output wrt to each input (In this case there is only a single input that matters)\n",
        "     return dict(zip(self.lst_names, self.lst_names[1]))\n"
      ],
      "metadata": {
        "id": "-0RqnZrStbyI"
      },
      "execution_count": 5,
      "outputs": []
    },
    {
      "cell_type": "markdown",
      "source": [
        "# **Nodes for special functions**"
      ],
      "metadata": {
        "id": "iF4EA5CLuKXR"
      }
    },
    {
      "cell_type": "code",
      "source": [
        "class Power:\n",
        "\n",
        "  def __init__(self, name, value, exponent):\n",
        "    self.name = name # Name of the variable to be exponentiated\n",
        "    self.value = value # Value of the variable\n",
        "    self.exponent = exponent # Value of the exponent\n",
        "  \n",
        "  def compute_output(self):\n",
        "    return np.power(self.value, self.exponent)\n",
        "  \n",
        "  def compute_gradients(self):\n",
        "    return {self.name : self.exponent*(np.power(self.value, (self.exponent - 1)))}\n",
        "\n",
        "class Sine: \n",
        "\n",
        "  # A class to apply the sine function on a variable\n",
        "  def __init__(self, name, value):\n",
        "    self.name = name\n",
        "    self.value = value\n",
        "  \n",
        "  def compute_output(self):\n",
        "    return np.sin(self.value)\n",
        "  \n",
        "  def compute_gradients(self):\n",
        "    return {self.name : np.cos(self.value)}\n",
        "\n",
        "\n",
        "class Logarithm:\n",
        "\n",
        "  # A class to compute the logarithm of a value\n",
        "  def __init__(self, name, value):\n",
        "    self.name = name\n",
        "    self.value = value\n",
        "  \n",
        "  def compute_output(self):\n",
        "    # Write your code here\n",
        "    return np.log(self.value)\n",
        "\n",
        "  def compute_gradients(self):\n",
        "    # Write your code here\n",
        "    j = 1/np.log(self.value)\n",
        "    return {self.name : j}\n",
        "\n",
        "\n",
        "class Exponential: \n",
        "\n",
        "  # A class to compute the exponential of a value\n",
        "  def __init__(self, name, value):\n",
        "    self.name = name\n",
        "    self.value = value\n",
        "  \n",
        "  def compute_output(self):\n",
        "    # Write your code here\n",
        "    return np.exp(self.value)\n",
        "\n",
        "  def compute_gradients(self):\n",
        "    # Write your code here\n",
        "    exp = np.exp(self.value)\n",
        "    grad = self.value * exp\n",
        "    return {self.name :grad}\n",
        "\n",
        "\n"
      ],
      "metadata": {
        "id": "RzhhbukvRBD-"
      },
      "execution_count": 6,
      "outputs": []
    },
    {
      "cell_type": "markdown",
      "source": [
        "Now that we have these classes, let's use them to actually find gradients of complex networks. We finally bring in the idea of a computational graph, which makes it much easier for the gradients to be computed.\n",
        "\n",
        "This is the image of the example graph that we want you to work with. \n",
        "\n",
        "\n",
        "\n"
      ],
      "metadata": {
        "id": "BsUmSRPKXau8"
      }
    },
    {
      "cell_type": "markdown",
      "source": [
        "<div>\n",
        "<img src=\"https://drive.google.com/uc?id=1VtI1lf85bG8cO1u_8l0D0rqVGhwHQtPK\"\n",
        " width=\"500\" height=\"500\">\n",
        "</div>"
      ],
      "metadata": {
        "id": "e2hDABSUr8Px"
      }
    },
    {
      "cell_type": "markdown",
      "source": [
        "\\begin{equation}\n",
        "d = 3a \\\\ \n",
        "e = abc \\\\ \n",
        "f = sin(c) \\\\ \n",
        "g = exp(e) \\\\ \n",
        "h = a + d + g + f\n",
        "\\end{equation}"
      ],
      "metadata": {
        "id": "tPKf5T4lrjxY"
      }
    },
    {
      "cell_type": "markdown",
      "source": [
        "# **Forward Propogation**"
      ],
      "metadata": {
        "id": "lnOQqmnlw7eN"
      }
    },
    {
      "cell_type": "code",
      "source": [
        "def forward_prop(a, b, c) : \n",
        "    '''\n",
        "    Input : real numbers a, b, c.\n",
        "\n",
        "    Outputs : A dictionary of the values at each node with keys as the names of nodes\n",
        "    Grads : A dictionary of the gradients at each edge with keys as a pair of nodes \n",
        "    \n",
        "    e.g. Grads[\"ce\"] = ...\n",
        "    '''\n",
        "    d_obj = Multiply_Scalar(['a','3'],[3])\n",
        "    d = d_obj.compute_output\n",
        "    ad = d_obj.compute_gradients\n",
        "    \n",
        "\n",
        "    e_obj = Multiply(['a','b','c'],[a,b,c])\n",
        "    e = e_obj.compute_output\n",
        "    ce = e_obj.compute_gradients\n",
        "\n",
        "    f_obj = Sine(['c'],[c])\n",
        "    f = f_obj.compute_output\n",
        "    cf = f_obj.compute_gradients\n",
        "\n",
        "    g_obj = Exponential(['e'],[e])\n",
        "    g = g_obj.compute_output\n",
        "    eg = g_obj.compute_gradients\n",
        "\n",
        "    h_obj = Add(['a','d','g','f'],[a,d,g,f])\n",
        "    h  = h_obj.compute_output\n",
        "    dh = h_obj.compute_gradients\n",
        "\n",
        "    out = np.array([d,e,f,g,h])\n",
        "    names_out = ['ad','ce','cf','eg','dh']\n",
        "    gradient = np.array([ad,ce,cf,eg,dh])\n",
        "    \n",
        "    Outputs = dict(zip(names_out, out))\n",
        "    Grads = dict(zip(names_out, gradient))\n",
        "\n",
        "\n",
        "    return (Outputs, Grads)\n",
        "print(forward_prop(1,2,3))"
      ],
      "metadata": {
        "id": "GM2n6S4sw-r_",
        "colab": {
          "base_uri": "https://localhost:8080/"
        },
        "outputId": "2f834f2f-0cfb-41bc-e4b0-0b3dbd280ed3"
      },
      "execution_count": 15,
      "outputs": [
        {
          "output_type": "stream",
          "name": "stdout",
          "text": [
            "<bound method Multiply_Scalar.compute_output of <__main__.Multiply_Scalar object at 0x7f594406e160>> <bound method Multiply_Scalar.compute_gradients of <__main__.Multiply_Scalar object at 0x7f594406e160>>\n",
            "({'ad': <bound method Multiply_Scalar.compute_output of <__main__.Multiply_Scalar object at 0x7f594406e160>>, 'ce': <bound method Multiply.compute_output of <__main__.Multiply object at 0x7f594406e190>>, 'cf': <bound method Sine.compute_output of <__main__.Sine object at 0x7f594406e2b0>>, 'eg': <bound method Exponential.compute_output of <__main__.Exponential object at 0x7f594406e310>>, 'dh': <bound method Add.compute_output of <__main__.Add object at 0x7f594406e370>>}, {'ad': <bound method Multiply_Scalar.compute_gradients of <__main__.Multiply_Scalar object at 0x7f594406e160>>, 'ce': <bound method Multiply.compute_gradients of <__main__.Multiply object at 0x7f594406e190>>, 'cf': <bound method Sine.compute_gradients of <__main__.Sine object at 0x7f594406e2b0>>, 'eg': <bound method Exponential.compute_gradients of <__main__.Exponential object at 0x7f594406e310>>, 'dh': <bound method Add.compute_gradients of <__main__.Add object at 0x7f594406e370>>})\n"
          ]
        }
      ]
    },
    {
      "cell_type": "markdown",
      "source": [
        "# **Backward Propogation**"
      ],
      "metadata": {
        "id": "ApNrGkHJxjMw"
      }
    },
    {
      "cell_type": "markdown",
      "source": [
        "Most of the usage of computational graphs in Machine Learning centers around finding the gradients of a particular loss, wrt to all the parameters. Here, your task is to do a simpler version of that.\n",
        "\n",
        "Use the classes you wrote to calculate the following gradients : \n",
        "\n",
        "\n",
        "*   $ \\frac{\\partial h}{\\partial a}$\n",
        "*   $ \\frac{\\partial h}{\\partial b}$\n",
        "*   $ \\frac{\\partial h}{\\partial c}$\n",
        "\n",
        "Use the technique of *backpropogation* to code out the gradients step-wise, along all possible chains of the graph starting from $h$ and ending at $a,b,c$ respectively. \n",
        "\n",
        "Don't try to directly get these values without backpropogation, it might be easier here, but with complicated neural networks it wouldn't be :) \n",
        "\n"
      ],
      "metadata": {
        "id": "450-YOv8fqmR"
      }
    },
    {
      "cell_type": "code",
      "source": [
        "def backward_prop(a, b, c, Outputs, Grads) : \n",
        "    '''\n",
        "    Input : a, b, c (input layer); Outputs (values at each node); Grads (gradients stored at each edge)\n",
        "    Retuns : result (gradients w.r.t a, b, c)\n",
        "    '''\n",
        "    dh = list(Grads.values())[4]\n",
        "    a = list(dh.values())[0]\n",
        "    dd = list(Grads.values())[0]\n",
        "    d = list(dd.values())[0]\n",
        "    dg = list(Grads.values())[3]\n",
        "    e2 = list(dg.values())[0]\n",
        "    g = list(dg.values())[0]\n",
        "\n",
        "    dh_da = a + d + g*e2\n",
        "\n",
        "    dg = list(Grads.values())[3]\n",
        "    g = list(dg.values())[0]\n",
        "    de = list(Grads.values())[2]\n",
        "    e = list(dg.values())[1]\n",
        "\n",
        "    dh_db = g * e\n",
        "\n",
        "    df = list(Grads.values())[2]\n",
        "    f = list(df.values())[0]\n",
        "    e1 = list(dg.values())[2]\n",
        "\n",
        "    dh_dc = g*e1 + f\n",
        "    result = [dh_da, dh_db, dh_dc]\n",
        "\n",
        "\n",
        "\n",
        "    \n",
        "    return result"
      ],
      "metadata": {
        "id": "YwL98tWexpGy"
      },
      "execution_count": 8,
      "outputs": []
    },
    {
      "cell_type": "markdown",
      "source": [
        "# **Combining both processes**\n",
        "\n",
        "For the purpose of values, assume that $a = 3, b = 1, c = 2$. Here, we call both forward and backward propogation functions to demonstrate functionality of the functions above."
      ],
      "metadata": {
        "id": "hOsnYr0lx_KT"
      }
    },
    {
      "cell_type": "code",
      "source": [
        "# Initialisation\n",
        "a = 3\n",
        "b = 1\n",
        "c = 2\n",
        "\n",
        "# Forward propogation\n",
        "(Outputs, Grads) = forward_prop(a, b, c)\n",
        "print(tuple(Outputs), Grads)\n",
        "print(f'Value obtained upon forward propogation : {Output['h']}')\n",
        "\n",
        "\n",
        "# Backward propogation\n",
        "result = backward_prop(a, b, c, Outputs, Grads)\n",
        "print(f'Values of gradients are : {result[0]}, {result[1]}, {result[2]}')"
      ],
      "metadata": {
        "id": "cn-KFyH4yWAJ",
        "colab": {
          "base_uri": "https://localhost:8080/",
          "height": 131
        },
        "outputId": "bf12f58d-d84b-4f8f-c921-b43dc3f7a46e"
      },
      "execution_count": 14,
      "outputs": [
        {
          "output_type": "error",
          "ename": "SyntaxError",
          "evalue": "ignored",
          "traceback": [
            "\u001b[0;36m  File \u001b[0;32m\"<ipython-input-14-cc5f387b707b>\"\u001b[0;36m, line \u001b[0;32m9\u001b[0m\n\u001b[0;31m    print(f'Value obtained upon forward propogation : {Output['h']}')\u001b[0m\n\u001b[0m                                                               ^\u001b[0m\n\u001b[0;31mSyntaxError\u001b[0m\u001b[0;31m:\u001b[0m invalid syntax\n"
          ]
        }
      ]
    },
    {
      "cell_type": "markdown",
      "source": [
        "# **Submission Instructions**\n",
        "\n",
        "Upload this notebook on your github classroom repository by the name Week1.ipynb"
      ],
      "metadata": {
        "id": "iMTRGZQoy-VU"
      }
    }
  ]
}